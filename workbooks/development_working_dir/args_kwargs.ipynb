{
 "cells": [
  {
   "cell_type": "code",
   "execution_count": null,
   "metadata": {},
   "outputs": [],
   "source": []
  },
  {
   "cell_type": "markdown",
   "metadata": {},
   "source": [
    "# Arguments\n",
    "\n",
    "Suppose we want to write a simple addition function to add a couple of numbers. We can do this using the following code:"
   ]
  },
  {
   "cell_type": "code",
   "execution_count": null,
   "metadata": {},
   "outputs": [],
   "source": [
    "def add1(a, b):\n",
    "    return a + b"
   ]
  },
  {
   "cell_type": "code",
   "execution_count": null,
   "metadata": {},
   "outputs": [],
   "source": [
    "add1(1, 2)"
   ]
  },
  {
   "cell_type": "markdown",
   "metadata": {},
   "source": [
    "However, what if we want to add more than two numbers? We can do this by adding more arguments to the function:"
   ]
  },
  {
   "cell_type": "code",
   "execution_count": 1,
   "metadata": {},
   "outputs": [],
   "source": [
    "def add2(a, b, c):\n",
    "    return a + b + c"
   ]
  },
  {
   "cell_type": "code",
   "execution_count": null,
   "metadata": {},
   "outputs": [],
   "source": [
    "add2(1, 2, 3)"
   ]
  },
  {
   "cell_type": "markdown",
   "metadata": {},
   "source": [
    "However, when we try to use this 3 number function with only two numbers, we have a problem..."
   ]
  },
  {
   "cell_type": "code",
   "execution_count": 2,
   "metadata": {},
   "outputs": [
    {
     "ename": "TypeError",
     "evalue": "add2() missing 1 required positional argument: 'c'",
     "output_type": "error",
     "traceback": [
      "\u001b[0;31m---------------------------------------------------------------------------\u001b[0m",
      "\u001b[0;31mTypeError\u001b[0m                                 Traceback (most recent call last)",
      "\u001b[1;32m/Users/akeem/Documents/GitHub/Programming_Basics_for_ML/workbooks/development_working_dir/args_kwargs.ipynb Cell 7\u001b[0m line \u001b[0;36m1\n\u001b[0;32m----> <a href='vscode-notebook-cell:/Users/akeem/Documents/GitHub/Programming_Basics_for_ML/workbooks/development_working_dir/args_kwargs.ipynb#W6sZmlsZQ%3D%3D?line=0'>1</a>\u001b[0m add2(\u001b[39m2\u001b[39;49m,\u001b[39m3\u001b[39;49m)\n",
      "\u001b[0;31mTypeError\u001b[0m: add2() missing 1 required positional argument: 'c'"
     ]
    }
   ],
   "source": [
    "try:\n",
    "    add2(2,3)\n",
    "except:\n",
    "    print(\"Error with adding\")"
   ]
  },
  {
   "cell_type": "markdown",
   "metadata": {},
   "source": [
    "Tabernac! So, we don't really have a universal solution here, no matter what we don't have a solution that does addition with an arbitrary number of arguments. \n",
    "\n",
    "How do we overcome this? One option is to change our function to accept a list or other iterable that contains our objects then add everything that is in that list. This works, but it is not very elegant and requires us to create a new object to do addition (which isn't usually a concern, but for very large datasets might be an issue)."
   ]
  },
  {
   "cell_type": "code",
   "execution_count": null,
   "metadata": {},
   "outputs": [],
   "source": [
    "def add3(numbers):\n",
    "    final_val = 0\n",
    "    for i in numbers:\n",
    "        final_val += i\n",
    "    return final_val"
   ]
  },
  {
   "cell_type": "code",
   "execution_count": null,
   "metadata": {},
   "outputs": [],
   "source": [
    "add3([1,2,3,4,5])"
   ]
  },
  {
   "cell_type": "markdown",
   "metadata": {},
   "source": [
    "## Args and Kwargs\n",
    "\n",
    "Another, potentially more elegant solution, is to use one of the `*args` and `**kwargs` arguments, which carry some special properties that help in this scenario. Each of these special arguments allows us to pass a variable number of arguments to a function, which are then automatically packaged and passed to the function as a tuple or dictionary, respectively.\n",
    "\n",
    "<b>Note:</b> the `*args` and `**kwargs` are just conventions, you can use any variable name you want, but these are the standard names. The stars indicate the 'magic' behavior, not the name, but these standard names are very, very common. \n",
    "\n",
    "### `*args`\n",
    "\n",
    "The `*args` argument is used to pass a variable number of arguments to a function. The `*` tells Python to take all the arguments that are passed to the function and put them in a tuple called `args`. This allows us to pass a variable number of arguments to a function. This is effectively very similar to the above example of passing in a list, but this one is seamless to the user - someone using our addition function doesn't need to manually construct a list, they just need to provide what they want added. \n",
    "\n",
    "When using *args, the individual arguments that our function receives aren't labeled, so we can't call them specifically outside of their index in the tuple. This option is normally used where all the arguments captured are the same type, and we want to combine them or do something to all of them, like in these math operations. "
   ]
  },
  {
   "cell_type": "code",
   "execution_count": 3,
   "metadata": {},
   "outputs": [],
   "source": [
    "def add4(*args):\n",
    "    final_val = 0\n",
    "    for i in args:\n",
    "        final_val += i\n",
    "    return final_val"
   ]
  },
  {
   "cell_type": "code",
   "execution_count": 5,
   "metadata": {},
   "outputs": [
    {
     "name": "stdout",
     "output_type": "stream",
     "text": [
      "15\n",
      "55\n",
      "3\n"
     ]
    }
   ],
   "source": [
    "print(add4(1,2,3,4,5))\n",
    "print(add4(1,2,3,4,5,6,7,8,9,10))\n",
    "print(add4(1,2))"
   ]
  },
  {
   "cell_type": "markdown",
   "metadata": {},
   "source": [
    "### Kwargs\n",
    "\n",
    "The `**kwargs` argument is used to pass a variable number of keyword arguments to a function. This allows us to have a set of specifically named arguments, and have them grouped and passed in as one object. The `**` tells Python to take all the keyword arguments that are passed to the function and put them in a dictionary called `kwargs`. This allows us to pass a variable number of keyword arguments to a function. \n",
    "\n",
    "The dictionary that is passed with the arguments is formatted so that the argument names are the keys and the values are the values. In contrast to the *args option, this gives us arguments by name, so we can call them specifically. One example of where this is used is with generating visualizations, there can be a **kwargs argument passed through that can contain an assortment of optional arguments for things like line thickness, title font, gridlines, etc.\n",
    "\n",
    "When using the **kwargs arguments we can deal with those arguments in a couple of different ways. We can look to see if the specific argument we want is set in the dictionary, and if so, take that. We can also loop through them and get the key/value pair if we are dealing with something we want to list out. Our example is looking for specific attributes in the kwargs dictionary - the get() function below will return the value of the key if it exists, if it doesn't will return None, or the provided default value of False. We can use this to easily use the kwargs values if they are provided, or use a default value if they are not."
   ]
  },
  {
   "cell_type": "code",
   "execution_count": null,
   "metadata": {},
   "outputs": [],
   "source": []
  },
  {
   "cell_type": "markdown",
   "metadata": {},
   "source": [
    "### Args and Kwarg Usage\n",
    "\n",
    "These generic arguments are helpful in making our functions more flexible, and more easily reused. \n",
    "\n",
    "#### Args and Kwargs Together\n",
    "\n",
    "These two can be used together, as well as mixed in with normal arguments. There are a few rules around the order that arguments need to go in, but we can use some simple rules to satisfy them:\n",
    "<ul>\n",
    "<li> Regular arguments. </li>\n",
    "<li> `*args` </li>\n",
    "<li> Keyword arguments. </li>\n",
    "<li> `**kwargs` </li>\n",
    "</ul>\n",
    "\n"
   ]
  },
  {
   "cell_type": "code",
   "execution_count": 14,
   "metadata": {},
   "outputs": [],
   "source": [
    "def add5(*args, **kwargs):\n",
    "    final_val = 0\n",
    "\n",
    "    for i in args:\n",
    "        tmp = i\n",
    "        #if do_abs:\n",
    "        if kwargs.get(\"absolute\", False):\n",
    "            tmp = abs(i)\n",
    "        #if do_round:\n",
    "        if kwargs.get(\"rounded\", False):\n",
    "            tmp = round(tmp)\n",
    "        final_val += tmp\n",
    "    return final_val    "
   ]
  },
  {
   "cell_type": "code",
   "execution_count": 15,
   "metadata": {},
   "outputs": [
    {
     "name": "stdout",
     "output_type": "stream",
     "text": [
      "3\n",
      "4.76584\n",
      "15\n"
     ]
    }
   ],
   "source": [
    "print(add5(1,2))\n",
    "print(add5(1,2,3,4,-5.23416))\n",
    "print(add5(1,2,3,4,-5.23416, absolute=True, rounded=True))"
   ]
  },
  {
   "cell_type": "code",
   "execution_count": 16,
   "metadata": {},
   "outputs": [],
   "source": [
    "def listyMathThing(starting_val, *args):\n",
    "    final_val = starting_val\n",
    "    for i in args:\n",
    "        final_val += i\n",
    "    return final_val"
   ]
  },
  {
   "cell_type": "markdown",
   "metadata": {},
   "source": [
    "## Exercise\n",
    "\n",
    "Complete the class Aggregator and its children. Here, we have a few things to note:\n",
    "<ul>\n",
    "<li> The class Aggregator is the parent class for all of our aggregation classes - such as addition, multiplication, etc... </li>\n",
    "<li> The class Aggregator has an empty method called aggregate. This is the method that will be called to do the aggregation. </li>\n",
    "<li> The class Aggregator has a method called __str__ that returns a string representation of the object. </li>\n",
    "<li> The class Aggregator has a private varaible with a list of all the values. </li>\n",
    "</ul>\n",
    "\n",
    "Each child should provide the \"meat\" of the aggregation action when the response method is called. In the original Aggregator class, the response method is empty, so we rely on each child class to implement it."
   ]
  },
  {
   "cell_type": "code",
   "execution_count": null,
   "metadata": {},
   "outputs": [],
   "source": [
    "class Aggregator():\n",
    "    \n",
    "    def __init__(self, *args):\n",
    "        self._list = list(args)\n",
    "    def __str__(self):\n",
    "        return str(self._list)\n",
    "    def response(self):\n",
    "        pass\n",
    "\n",
    "class Addition(Aggregator):\n",
    "    \n",
    "    def __init__(self, *args):\n",
    "        super().__init__(*args)\n",
    "    def response(self):\n",
    "        return sum(self._list)\n",
    "\n",
    "class Multiplication(Aggregator):\n",
    "\n",
    "    def __init__(self, *args):\n",
    "        super().__init__(*args)\n",
    "    def response(self):\n",
    "        tmp = 1\n",
    "        for i in self._list:\n",
    "            if i == 0:\n",
    "                return 0\n",
    "            tmp *= i\n",
    "        return tmp"
   ]
  },
  {
   "cell_type": "code",
   "execution_count": null,
   "metadata": {},
   "outputs": [],
   "source": [
    "a = Addition(1,2,3,4,5)\n",
    "a.response()"
   ]
  },
  {
   "cell_type": "code",
   "execution_count": null,
   "metadata": {},
   "outputs": [],
   "source": [
    "m = Multiplication(1,2,3,4,5)\n",
    "print(m)\n",
    "print(m.response())"
   ]
  }
 ],
 "metadata": {
  "kernelspec": {
   "display_name": "ml_env",
   "language": "python",
   "name": "python3"
  },
  "language_info": {
   "codemirror_mode": {
    "name": "ipython",
    "version": 3
   },
   "file_extension": ".py",
   "mimetype": "text/x-python",
   "name": "python",
   "nbconvert_exporter": "python",
   "pygments_lexer": "ipython3",
   "version": "3.10.9"
  },
  "orig_nbformat": 4
 },
 "nbformat": 4,
 "nbformat_minor": 2
}
